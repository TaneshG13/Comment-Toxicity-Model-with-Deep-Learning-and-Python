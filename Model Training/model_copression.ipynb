{
 "cells": [
  {
   "cell_type": "code",
   "execution_count": 1,
   "metadata": {},
   "outputs": [],
   "source": [
    "import tensorflow as tf"
   ]
  },
  {
   "cell_type": "code",
   "execution_count": 2,
   "metadata": {},
   "outputs": [
    {
     "name": "stderr",
     "output_type": "stream",
     "text": [
      "WARNING:absl:Compiled the loaded model, but the compiled metrics have yet to be built. `model.compile_metrics` will be empty until you train or evaluate the model.\n"
     ]
    }
   ],
   "source": [
    "model = tf.keras.models.load_model('comment_toxicity_detection.h5')"
   ]
  },
  {
   "cell_type": "code",
   "execution_count": 4,
   "metadata": {},
   "outputs": [],
   "source": [
    "converter = tf.lite.TFLiteConverter.from_keras_model(model)"
   ]
  },
  {
   "cell_type": "code",
   "execution_count": 5,
   "metadata": {},
   "outputs": [],
   "source": [
    "converter.target_spec.supported_ops = [\n",
    "    tf.lite.OpsSet.TFLITE_BUILTINS,  # Use built-in TFLite ops\n",
    "    tf.lite.OpsSet.SELECT_TF_OPS     # Enable TensorFlow ops\n",
    "]"
   ]
  },
  {
   "cell_type": "code",
   "execution_count": 6,
   "metadata": {},
   "outputs": [],
   "source": [
    "converter._experimental_lower_tensor_list_ops = False"
   ]
  },
  {
   "cell_type": "code",
   "execution_count": 7,
   "metadata": {},
   "outputs": [],
   "source": [
    "converter.experimental_enable_resource_variables = True"
   ]
  },
  {
   "cell_type": "code",
   "execution_count": 8,
   "metadata": {},
   "outputs": [],
   "source": [
    "converter.optimizations = [tf.lite.Optimize.DEFAULT]"
   ]
  },
  {
   "cell_type": "code",
   "execution_count": 10,
   "metadata": {},
   "outputs": [
    {
     "name": "stdout",
     "output_type": "stream",
     "text": [
      "INFO:tensorflow:Assets written to: C:\\Users\\gujar\\AppData\\Local\\Temp\\tmp8z7u6qe3\\assets\n"
     ]
    },
    {
     "name": "stderr",
     "output_type": "stream",
     "text": [
      "INFO:tensorflow:Assets written to: C:\\Users\\gujar\\AppData\\Local\\Temp\\tmp8z7u6qe3\\assets\n"
     ]
    },
    {
     "name": "stdout",
     "output_type": "stream",
     "text": [
      "Saved artifact at 'C:\\Users\\gujar\\AppData\\Local\\Temp\\tmp8z7u6qe3'. The following endpoints are available:\n",
      "\n",
      "* Endpoint 'serve'\n",
      "  args_0 (POSITIONAL_ONLY): TensorSpec(shape=(None, 200), dtype=tf.float32, name='input_layer')\n",
      "Output Type:\n",
      "  TensorSpec(shape=(None, 6), dtype=tf.float32, name=None)\n",
      "Captures:\n",
      "  2870077402832: TensorSpec(shape=(), dtype=tf.resource, name=None)\n",
      "  2870078636880: TensorSpec(shape=(), dtype=tf.resource, name=None)\n",
      "  2870078636496: TensorSpec(shape=(), dtype=tf.resource, name=None)\n",
      "  2870078637264: TensorSpec(shape=(), dtype=tf.resource, name=None)\n",
      "  2870078636688: TensorSpec(shape=(), dtype=tf.resource, name=None)\n",
      "  2870077404752: TensorSpec(shape=(), dtype=tf.resource, name=None)\n",
      "  2870077404176: TensorSpec(shape=(), dtype=tf.resource, name=None)\n",
      "  2870077404944: TensorSpec(shape=(), dtype=tf.resource, name=None)\n",
      "  2870077406480: TensorSpec(shape=(), dtype=tf.resource, name=None)\n",
      "  2870078637456: TensorSpec(shape=(), dtype=tf.resource, name=None)\n",
      "  2870078640336: TensorSpec(shape=(), dtype=tf.resource, name=None)\n",
      "  2870078638032: TensorSpec(shape=(), dtype=tf.resource, name=None)\n",
      "  2870078641488: TensorSpec(shape=(), dtype=tf.resource, name=None)\n",
      "  2870078640912: TensorSpec(shape=(), dtype=tf.resource, name=None)\n",
      "  2870078643216: TensorSpec(shape=(), dtype=tf.resource, name=None)\n",
      "TFLite model conversion successful!\n"
     ]
    }
   ],
   "source": [
    "try:\n",
    "    tflite_model = converter.convert()\n",
    "    # Save the TFLite model\n",
    "    with open('comment_toxicity_detection.tflite', 'wb') as f:\n",
    "        f.write(tflite_model)\n",
    "    print(\"TFLite model conversion successful!\")\n",
    "except Exception as e:\n",
    "    print(f\"Error during TFLite conversion: {e}\")"
   ]
  },
  {
   "cell_type": "code",
   "execution_count": null,
   "metadata": {},
   "outputs": [],
   "source": []
  }
 ],
 "metadata": {
  "kernelspec": {
   "display_name": "TensorFlow",
   "language": "python",
   "name": "python3"
  },
  "language_info": {
   "codemirror_mode": {
    "name": "ipython",
    "version": 3
   },
   "file_extension": ".py",
   "mimetype": "text/x-python",
   "name": "python",
   "nbconvert_exporter": "python",
   "pygments_lexer": "ipython3",
   "version": "3.11.10"
  }
 },
 "nbformat": 4,
 "nbformat_minor": 2
}
